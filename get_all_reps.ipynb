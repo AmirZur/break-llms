{
 "cells": [
  {
   "cell_type": "markdown",
   "id": "02e5d682-54a0-4182-a572-f39fac53f73c",
   "metadata": {},
   "source": [
    "# Compute and store all reps"
   ]
  },
  {
   "cell_type": "markdown",
   "id": "089d015d-ac48-407b-8e57-1e372b6050ff",
   "metadata": {},
   "source": [
    "## Set-up"
   ]
  },
  {
   "cell_type": "code",
   "execution_count": 1,
   "id": "ad88fc84-f2da-4bb8-9462-f5dd09306afb",
   "metadata": {},
   "outputs": [],
   "source": [
    "import pickle\n",
    "import transformers\n",
    "from transformers import AutoModel, AutoTokenizer\n",
    "import break_utils"
   ]
  },
  {
   "cell_type": "code",
   "execution_count": 2,
   "id": "2558d646-f572-4a84-9dd0-f21b40bdbed8",
   "metadata": {},
   "outputs": [],
   "source": [
    "transformers.logging.set_verbosity_error()"
   ]
  },
  {
   "cell_type": "code",
   "execution_count": 3,
   "id": "3b254b0c-6e29-42b8-b18b-733901ecf449",
   "metadata": {},
   "outputs": [],
   "source": [
    "ann_filename = \"annotated_break_data.csv\""
   ]
  },
  {
   "cell_type": "code",
   "execution_count": 4,
   "id": "66f98426-91e1-4855-88cb-828aa435bf34",
   "metadata": {},
   "outputs": [],
   "source": [
    "def get_reps(weights_name, layers=(1, 6, 12)):\n",
    "    df = break_utils.load_annotated_dataset(\n",
    "        ann_filename, \n",
    "        AutoTokenizer.from_pretrained(weights_name), \n",
    "        model=AutoModel.from_pretrained(weights_name),\n",
    "        layers=layers)\n",
    "    with open(f\"reps/{weights_name.replace('/', '_')}_df.pickle\", \"wb\") as f:\n",
    "        pickle.dump(df, f)"
   ]
  },
  {
   "cell_type": "markdown",
   "id": "e9d34b3a-7ef0-491f-a7db-55116629b003",
   "metadata": {},
   "source": [
    "## RoBERTa-base"
   ]
  },
  {
   "cell_type": "code",
   "execution_count": 5,
   "id": "b0e4fd70-e708-46dc-9592-c373a0dda322",
   "metadata": {},
   "outputs": [
    {
     "name": "stdout",
     "output_type": "stream",
     "text": [
      "CPU times: user 3min 40s, sys: 2.79 s, total: 3min 43s\n",
      "Wall time: 3min 41s\n"
     ]
    }
   ],
   "source": [
    "%%time\n",
    "get_reps('roberta-base')"
   ]
  },
  {
   "cell_type": "markdown",
   "id": "290d10c8-66d5-42ea-8de2-d2aac040b6e6",
   "metadata": {},
   "source": [
    "## RoBERTa-large"
   ]
  },
  {
   "cell_type": "code",
   "execution_count": 6,
   "id": "34a4ecab-2a88-4382-b550-c00dd2a52851",
   "metadata": {},
   "outputs": [
    {
     "name": "stdout",
     "output_type": "stream",
     "text": [
      "CPU times: user 12min 50s, sys: 8.14 s, total: 12min 58s\n",
      "Wall time: 12min 48s\n"
     ]
    }
   ],
   "source": [
    "%%time\n",
    "get_reps('roberta-large', layers=(1, 6, 12, 18, 24))\n",
    "#\n",
    "# get_reps('roberta-large', layers=(24,))"
   ]
  },
  {
   "cell_type": "markdown",
   "id": "1a6c15a0-551a-46a2-b7fb-dba49d840307",
   "metadata": {},
   "source": [
    "## BERT-base"
   ]
  },
  {
   "cell_type": "code",
   "execution_count": 7,
   "id": "75c45d84-12d2-40eb-a37e-330e259b6001",
   "metadata": {},
   "outputs": [
    {
     "name": "stdout",
     "output_type": "stream",
     "text": [
      "CPU times: user 3min 50s, sys: 2.41 s, total: 3min 53s\n",
      "Wall time: 3min 53s\n"
     ]
    }
   ],
   "source": [
    "%%time\n",
    "get_reps('bert-base-cased')"
   ]
  },
  {
   "cell_type": "markdown",
   "id": "3ba15372-41f0-483e-8337-a8f02483ae14",
   "metadata": {},
   "source": [
    "## BERT-large"
   ]
  },
  {
   "cell_type": "code",
   "execution_count": 8,
   "id": "3f2de5cd-054a-441b-9ba8-204fb476a5af",
   "metadata": {},
   "outputs": [],
   "source": [
    "get_reps('bert-large-cased', layers=(1, 6, 12, 18, 24))"
   ]
  },
  {
   "cell_type": "markdown",
   "id": "7d2273a1-380e-4ba6-be05-ab87e7c2b10c",
   "metadata": {},
   "source": [
    "## DeBERTa-v3-base"
   ]
  },
  {
   "cell_type": "code",
   "execution_count": 9,
   "id": "84de65a4-2a2a-49f0-9dc2-d85f1a1f23e1",
   "metadata": {},
   "outputs": [],
   "source": [
    "get_reps('microsoft/deberta-v3-base')"
   ]
  },
  {
   "cell_type": "markdown",
   "id": "8339c563-8bb8-4f7a-a784-ca0e5604c650",
   "metadata": {},
   "source": [
    "## DeBERTa-v3-large"
   ]
  },
  {
   "cell_type": "code",
   "execution_count": 10,
   "id": "a68eb0cd-47b8-4cf0-a612-930db5ca93b4",
   "metadata": {},
   "outputs": [],
   "source": [
    "get_reps('microsoft/deberta-v3-large', layers=(1, 6, 12, 18, 24))"
   ]
  },
  {
   "cell_type": "markdown",
   "id": "cf59912d-6547-4760-b096-9b4f27ce72ba",
   "metadata": {},
   "source": [
    "## DeBERTa-base"
   ]
  },
  {
   "cell_type": "code",
   "execution_count": 11,
   "id": "99114e7d-05d2-4c78-818d-c0acb0e9b1b5",
   "metadata": {},
   "outputs": [],
   "source": [
    "get_reps('microsoft/deberta-base')"
   ]
  },
  {
   "cell_type": "markdown",
   "id": "1a51d805-3cee-4287-a4e6-2f69b3d9bd5e",
   "metadata": {},
   "source": [
    "## DeBERTa-large"
   ]
  },
  {
   "cell_type": "code",
   "execution_count": 12,
   "id": "98f88aff-a281-4177-8beb-1554a9d0290a",
   "metadata": {},
   "outputs": [
    {
     "name": "stdout",
     "output_type": "stream",
     "text": [
      "CPU times: user 16min 34s, sys: 8.25 s, total: 16min 43s\n",
      "Wall time: 16min 30s\n"
     ]
    }
   ],
   "source": [
    "%%time\n",
    "get_reps('microsoft/deberta-large', layers=(1, 6, 12, 18, 24))"
   ]
  }
 ],
 "metadata": {
  "kernelspec": {
   "display_name": "Python 3 (ipykernel)",
   "language": "python",
   "name": "python3"
  },
  "language_info": {
   "codemirror_mode": {
    "name": "ipython",
    "version": 3
   },
   "file_extension": ".py",
   "mimetype": "text/x-python",
   "name": "python",
   "nbconvert_exporter": "python",
   "pygments_lexer": "ipython3",
   "version": "3.9.7"
  }
 },
 "nbformat": 4,
 "nbformat_minor": 5
}
