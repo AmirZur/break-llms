{
 "cells": [
  {
   "cell_type": "markdown",
   "id": "ddaf790c-f454-43b2-8c19-77517dfdfc42",
   "metadata": {},
   "source": [
    "# WordNet graphs"
   ]
  },
  {
   "cell_type": "code",
   "execution_count": 1,
   "id": "8660ca49-3610-4ea2-95ba-d5fbcd302b7c",
   "metadata": {},
   "outputs": [],
   "source": [
    "import break_utils\n",
    "from nltk.corpus import wordnet as wn\n",
    "from nltk.corpus.reader.wordnet import Synset\n",
    "from collections import defaultdict\n",
    "from operator import itemgetter\n",
    "import networkx as nx\n",
    "import matplotlib.pyplot as plt"
   ]
  },
  {
   "cell_type": "code",
   "execution_count": 2,
   "id": "3a04dcfe-f54f-4e50-964f-691d28a694cf",
   "metadata": {},
   "outputs": [],
   "source": [
    "ss = wn.synsets(\"break\", \"v\")"
   ]
  },
  {
   "cell_type": "code",
   "execution_count": 3,
   "id": "1e83ec8b-7ac9-4acc-a1ac-c3b57972bc2d",
   "metadata": {},
   "outputs": [],
   "source": [
    "edges = []\n",
    "node_dict = {}\n",
    "\n",
    "for s in ss:\n",
    "    n = s.name()\n",
    "    node_dict[n] = s\n",
    "    for paths in s.hypernym_paths():\n",
    "        for p in paths:\n",
    "            pname = p.name()\n",
    "            if pname != n:\n",
    "                node_dict[pname] = p\n",
    "                edges.append((n, pname))"
   ]
  },
  {
   "cell_type": "code",
   "execution_count": 4,
   "id": "b018bf52-94f9-40a3-983e-d3898946d0f6",
   "metadata": {},
   "outputs": [],
   "source": [
    "nodes = [(n, {\"synset\": n}) for n, s in node_dict.items()]"
   ]
  },
  {
   "cell_type": "code",
   "execution_count": 5,
   "id": "2b3be9ae-8140-498f-8fea-a5b3befc45ea",
   "metadata": {},
   "outputs": [],
   "source": [
    "G = nx.Graph()"
   ]
  },
  {
   "cell_type": "code",
   "execution_count": 6,
   "id": "1e0e773f-8075-416a-a740-ec94696f88bb",
   "metadata": {},
   "outputs": [],
   "source": [
    "G.add_nodes_from(nodes)"
   ]
  },
  {
   "cell_type": "code",
   "execution_count": 7,
   "id": "80c4f13e-04c6-476b-8ef1-d1156979ce76",
   "metadata": {},
   "outputs": [],
   "source": [
    "G.add_edges_from(edges)"
   ]
  },
  {
   "cell_type": "code",
   "execution_count": 8,
   "id": "22d1033d-e56f-4692-bcce-93b5f13de16d",
   "metadata": {},
   "outputs": [],
   "source": [
    "def get_common_hypernym_def(node_names):\n",
    "    all_intersect = []\n",
    "    for n1 in node_names:\n",
    "        for n2 in node_names:\n",
    "            all_intersect.append(node_dict[n1].common_hypernyms(node_dict[n2]))\n",
    "    x = set(all_intersect[0])\n",
    "    for y in all_intersect[1: ]:\n",
    "        x &= set(y)    \n",
    "    x = list(x)[0]\n",
    "    return x.definition()"
   ]
  },
  {
   "cell_type": "code",
   "execution_count": 9,
   "id": "d7aec62b-90eb-4de5-9b95-ea0447547bcc",
   "metadata": {},
   "outputs": [
    {
     "name": "stdout",
     "output_type": "stream",
     "text": [
      "29\n"
     ]
    }
   ],
   "source": [
    "subgraphs = sorted(nx.connected_components(G), key=len, reverse=True)\n",
    "\n",
    "print(len(subgraphs))\n",
    "\n",
    "for i, c in enumerate(subgraphs):\n",
    "    if i >= len(break_utils.color_types):\n",
    "        color = \"black\"\n",
    "    else:    \n",
    "        color = break_utils.color_types[i]\n",
    "    g = G.subgraph(c)\n",
    "    \n",
    "    title = get_common_hypernym_def(g)\n",
    "    \n",
    "    fig, ax = plt.subplots(nrows=1, ncols=1, figsize=(11, 5))\n",
    "    nx.draw(\n",
    "        g, \n",
    "        pos=nx.kamada_kawai_layout(g), \n",
    "        ax=ax, with_labels=True, \n",
    "        node_size=0, \n",
    "        edge_color=color, \n",
    "        node_color=color, \n",
    "        font_color=color)\n",
    "    ax.set_title(title)\n",
    "    plt.tight_layout()    \n",
    "    plt.savefig('fig/graph{}.png'.format(i), dpi=300)\n",
    "    plt.close()"
   ]
  },
  {
   "cell_type": "code",
   "execution_count": null,
   "id": "25b23a04-847a-4b00-bc9d-68739231d063",
   "metadata": {},
   "outputs": [],
   "source": []
  }
 ],
 "metadata": {
  "kernelspec": {
   "display_name": "Python 3 (ipykernel)",
   "language": "python",
   "name": "python3"
  },
  "language_info": {
   "codemirror_mode": {
    "name": "ipython",
    "version": 3
   },
   "file_extension": ".py",
   "mimetype": "text/x-python",
   "name": "python",
   "nbconvert_exporter": "python",
   "pygments_lexer": "ipython3",
   "version": "3.9.7"
  }
 },
 "nbformat": 4,
 "nbformat_minor": 5
}
