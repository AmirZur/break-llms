{
 "cells": [
  {
   "cell_type": "markdown",
   "id": "78ec593a-8ac0-4218-ad20-f6ce24e85108",
   "metadata": {},
   "source": [
    "# Static vector analyses"
   ]
  },
  {
   "cell_type": "markdown",
   "id": "3539bbf9-8162-434b-947e-39e9acd4093d",
   "metadata": {},
   "source": [
    "## Set-up"
   ]
  },
  {
   "cell_type": "code",
   "execution_count": 1,
   "id": "07c19a62-bef7-4dde-9266-c2a3db8b6359",
   "metadata": {},
   "outputs": [],
   "source": [
    "import break_utils\n",
    "import gensim.downloader as api\n",
    "import io\n",
    "import pandas as pd"
   ]
  },
  {
   "cell_type": "code",
   "execution_count": 2,
   "id": "a4a6d603-5b52-4fb5-9430-31607ad3e09f",
   "metadata": {},
   "outputs": [],
   "source": [
    "def get_break_neighbors(df):    \n",
    "    neigh = break_utils.neighbors(\"break\", df)\n",
    "    x = list(neigh.head(20).index)\n",
    "    i = list(range(1, 11))\n",
    "    j = list(range(11, 21))\n",
    "    results = pd.DataFrame(list(zip(i, x[: 10], j, x[10: ])))\n",
    "    print(results.to_latex(header=None, index=None)) "
   ]
  },
  {
   "cell_type": "markdown",
   "id": "8d3516e3-7976-437b-8807-623d79318b4e",
   "metadata": {},
   "source": [
    "## GloVe\n",
    "\n",
    "https://nlp.stanford.edu/projects/glove/"
   ]
  },
  {
   "cell_type": "code",
   "execution_count": 3,
   "id": "215cce21-89b0-455b-8327-762e6841f986",
   "metadata": {},
   "outputs": [],
   "source": [
    "def get_break_neighbors_glove(filename, d=300):\n",
    "    glv = break_utils.glove2dict(filename)\n",
    "    glv = {k: v for k, v in glv.items() if len(v) == d}    \n",
    "    df = pd.DataFrame(glv).T\n",
    "    get_break_neighbors(df)"
   ]
  },
  {
   "cell_type": "code",
   "execution_count": 4,
   "id": "353293a3-0318-479d-9ffb-501be31a6f91",
   "metadata": {},
   "outputs": [
    {
     "name": "stdout",
     "output_type": "stream",
     "text": [
      "\\begin{tabular}{rlrl}\n",
      "\\toprule\n",
      "  1 &     break &  11 &   before \\\\\n",
      "  2 &  breaking &  12 &      put \\\\\n",
      "  3 &     broke &  13 &    start \\\\\n",
      "  4 &    breaks &  14 &     take \\\\\n",
      "  5 &       set &  15 &   trying \\\\\n",
      "  6 &       try &  16 &    could \\\\\n",
      "  7 &    chance &  17 &       to \\\\\n",
      "  8 &      time &  18 &   broken \\\\\n",
      "  9 &     again &  19 &      end \\\\\n",
      " 10 &      back &  20 &  finally \\\\\n",
      "\\bottomrule\n",
      "\\end{tabular}\n",
      "\n"
     ]
    }
   ],
   "source": [
    "get_break_neighbors_glove(\"reps/glove.6B.300d.txt\")"
   ]
  },
  {
   "cell_type": "code",
   "execution_count": 5,
   "id": "700a5b64-b117-4dbc-811e-1c8d76d21d0c",
   "metadata": {},
   "outputs": [
    {
     "name": "stdout",
     "output_type": "stream",
     "text": [
      "\\begin{tabular}{rlrl}\n",
      "\\toprule\n",
      "  1 &   break &  11 &  weeks \\\\\n",
      "  2 &    time &  12 &  start \\\\\n",
      "  3 &  breaks &  13 &   last \\\\\n",
      "  4 &  before &  14 &    end \\\\\n",
      "  5 &    then &  15 &  broke \\\\\n",
      "  6 &    take &  16 &  again \\\\\n",
      "  7 &    days &  17 &   next \\\\\n",
      "  8 &   after &  18 &  maybe \\\\\n",
      "  9 &     let &  19 &  leave \\\\\n",
      " 10 &      up &  20 &   down \\\\\n",
      "\\bottomrule\n",
      "\\end{tabular}\n",
      "\n"
     ]
    }
   ],
   "source": [
    "get_break_neighbors_glove(\"reps/glove.twitter.27B.200d.txt\", d=200)"
   ]
  },
  {
   "cell_type": "code",
   "execution_count": 6,
   "id": "382ae000-0db1-4746-b895-d58f7b435544",
   "metadata": {},
   "outputs": [
    {
     "name": "stdout",
     "output_type": "stream",
     "text": [
      "\\begin{tabular}{rlrl}\n",
      "\\toprule\n",
      "  1 &     break &  11 &     get \\\\\n",
      "  2 &    breaks &  12 &     out \\\\\n",
      "  3 &  breaking &  13 &  trying \\\\\n",
      "  4 &     broke &  14 &      we \\\\\n",
      "  5 &     going &  15 &  broken \\\\\n",
      "  6 &       let &  16 &   again \\\\\n",
      "  7 &      away &  17 &    come \\\\\n",
      "  8 &      take &  18 &    down \\\\\n",
      "  9 &        up &  19 &    make \\\\\n",
      " 10 &       'll &  20 &  before \\\\\n",
      "\\bottomrule\n",
      "\\end{tabular}\n",
      "\n"
     ]
    }
   ],
   "source": [
    "get_break_neighbors_glove(\"reps/glove.42B.300d.txt\")"
   ]
  },
  {
   "cell_type": "code",
   "execution_count": 7,
   "id": "1fdd3e12-b027-4662-a74f-b8dc05c8b6a1",
   "metadata": {},
   "outputs": [
    {
     "name": "stdout",
     "output_type": "stream",
     "text": [
      "\\begin{tabular}{rlrl}\n",
      "\\toprule\n",
      "  1 &     break &  11 &      up \\\\\n",
      "  2 &    breaks &  12 &  trying \\\\\n",
      "  3 &  breaking &  13 &    away \\\\\n",
      "  4 &       end &  14 &   start \\\\\n",
      "  5 &     broke &  15 &     get \\\\\n",
      "  6 &      down &  16 &   again \\\\\n",
      "  7 &      take &  17 &     'll \\\\\n",
      "  8 &       let &  18 &    back \\\\\n",
      "  9 &     going &  19 &     out \\\\\n",
      " 10 &     leave &  20 &     off \\\\\n",
      "\\bottomrule\n",
      "\\end{tabular}\n",
      "\n"
     ]
    }
   ],
   "source": [
    "get_break_neighbors_glove(\"reps/glove.840B.300d.txt\")"
   ]
  },
  {
   "cell_type": "markdown",
   "id": "98170462-8d54-4900-839a-f6d50de3fbe4",
   "metadata": {},
   "source": [
    "## word2vec"
   ]
  },
  {
   "cell_type": "code",
   "execution_count": 8,
   "id": "5e70fbfb-9ae9-438b-8fa0-971391cb9c2a",
   "metadata": {},
   "outputs": [],
   "source": [
    "wv = api.load('word2vec-google-news-300')"
   ]
  },
  {
   "cell_type": "code",
   "execution_count": 9,
   "id": "373744d6-16d0-4131-8dc0-0e9e31a63a17",
   "metadata": {},
   "outputs": [],
   "source": [
    "def get_word2vec():\n",
    "    x = wv.most_similar(positive=['break'], topn=20)\n",
    "    x = [w for w, s in x]\n",
    "    i = list(range(1, 11))\n",
    "    j = list(range(11, 21))\n",
    "    results = pd.DataFrame(list(zip(i, x[: 10], j, x[10: ])))\n",
    "    print(results.to_latex(header=None, index=None)) "
   ]
  },
  {
   "cell_type": "code",
   "execution_count": 10,
   "id": "910256bd-98a4-475a-a0ba-a73cc4c07fa9",
   "metadata": {},
   "outputs": [
    {
     "name": "stdout",
     "output_type": "stream",
     "text": [
      "\\begin{tabular}{rlrl}\n",
      "\\toprule\n",
      "  1 &    breaks &  11 &          brief\\_respite \\\\\n",
      "  2 &  breaking &  12 &  Nadal\\_netted\\_forehand \\\\\n",
      "  3 &     broke &  13 &                 loosen \\\\\n",
      "  4 &    broken &  14 &                  smash \\\\\n",
      "  5 &     Break &  15 &                    rip \\\\\n",
      "  6 &  Breaking &  16 &       overhit\\_forehand \\\\\n",
      "  7 &  breather &  17 &       miscued\\_forehand \\\\\n",
      "  8 &   shatter &  18 &                    cut \\\\\n",
      "  9 &     crack &  19 &                   slip \\\\\n",
      " 10 &   breaker &  20 &                 Breaks \\\\\n",
      "\\bottomrule\n",
      "\\end{tabular}\n",
      "\n"
     ]
    }
   ],
   "source": [
    "get_word2vec()"
   ]
  },
  {
   "cell_type": "markdown",
   "id": "741024e0-84f3-4eb0-95f1-2eeea92164f4",
   "metadata": {},
   "source": [
    "## fastText\n",
    "\n",
    "https://fasttext.cc/docs/en/english-vectors.html"
   ]
  },
  {
   "cell_type": "code",
   "execution_count": 11,
   "id": "df63af70-41e5-4905-a2da-c43028855b89",
   "metadata": {},
   "outputs": [],
   "source": [
    "def get_break_neighbors_fasttext(fname):\n",
    "    fin = io.open(fname, 'r', encoding='utf-8', newline='\\n', errors='ignore')\n",
    "    n, d = map(int, fin.readline().split())\n",
    "    data = {}\n",
    "    for line in fin:\n",
    "        tokens = line.rstrip().split(' ')\n",
    "        data[tokens[0]] = map(float, tokens[1:])\n",
    "    df = pd.DataFrame(data).T\n",
    "    get_break_neighbors(df)"
   ]
  },
  {
   "cell_type": "code",
   "execution_count": 12,
   "id": "e69f4f68-a4b3-408f-b4dc-8c92acb3274a",
   "metadata": {},
   "outputs": [
    {
     "name": "stdout",
     "output_type": "stream",
     "text": [
      "\\begin{tabular}{rlrl}\n",
      "\\toprule\n",
      "  1 &     break &  11 &      follow \\\\\n",
      "  2 &    breaks &  12 &       smash \\\\\n",
      "  3 &  breaking &  13 &       BREAK \\\\\n",
      "  4 &     broke &  14 &       knock \\\\\n",
      "  5 &     Break &  15 &  water-main \\\\\n",
      "  6 &    broken &  16 &        miss \\\\\n",
      "  7 &     crack &  17 &         tie \\\\\n",
      "  8 &      take &  18 &          go \\\\\n",
      "  9 &   shatter &  19 &       relax \\\\\n",
      " 10 &       fix &  20 &       start \\\\\n",
      "\\bottomrule\n",
      "\\end{tabular}\n",
      "\n"
     ]
    }
   ],
   "source": [
    "get_break_neighbors_fasttext(\"reps/wiki-news-300d-1M.vec\")"
   ]
  },
  {
   "cell_type": "code",
   "execution_count": 13,
   "id": "0f45ab6c-b436-4b74-a351-222fd87f2486",
   "metadata": {},
   "outputs": [
    {
     "name": "stdout",
     "output_type": "stream",
     "text": [
      "\\begin{tabular}{rlrl}\n",
      "\\toprule\n",
      "  1 &     break &  11 &        breakin \\\\\n",
      "  2 &    breaks &  12 &        breaked \\\\\n",
      "  3 &  breaking &  13 &         broken \\\\\n",
      "  4 &    breake &  14 &       legbreak \\\\\n",
      "  5 &  re-break &  15 &           reak \\\\\n",
      "  6 &    break- &  16 &     semi-break \\\\\n",
      "  7 &   unbreak &  17 &      minibreak \\\\\n",
      "  8 &   breakes &  18 &        breaker \\\\\n",
      "  9 &    break. &  19 &  breaking-down \\\\\n",
      " 10 &     broke &  20 &      tea-break \\\\\n",
      "\\bottomrule\n",
      "\\end{tabular}\n",
      "\n"
     ]
    }
   ],
   "source": [
    "get_break_neighbors_fasttext(\"reps/wiki-news-300d-1M-subword.vec\")"
   ]
  },
  {
   "cell_type": "code",
   "execution_count": 14,
   "id": "10bc7e52-c69b-4193-abd4-89bd147e36b1",
   "metadata": {},
   "outputs": [
    {
     "name": "stdout",
     "output_type": "stream",
     "text": [
      "\\begin{tabular}{rlrl}\n",
      "\\toprule\n",
      "  1 &      break &  11 &   break.The \\\\\n",
      "  2 &     breaks &  12 &     break.I \\\\\n",
      "  3 &   breaking &  13 &    break.It \\\\\n",
      "  4 &      Break &  14 &  break.This \\\\\n",
      "  5 &      broke &  15 &      broken \\\\\n",
      "  6 &  break.And &  16 &    break.So \\\\\n",
      "  7 &   Breaking &  17 &    break.In \\\\\n",
      "  8 &     break. &  18 &      break- \\\\\n",
      "  9 &      BREAK &  19 &      breack \\\\\n",
      " 10 &     Breaks &  20 &  break.That \\\\\n",
      "\\bottomrule\n",
      "\\end{tabular}\n",
      "\n"
     ]
    }
   ],
   "source": [
    "get_break_neighbors_fasttext(\"reps/crawl-300d-2M.vec\")"
   ]
  },
  {
   "cell_type": "code",
   "execution_count": 15,
   "id": "344b0895-7ea6-43ed-9a90-1c285c9213e4",
   "metadata": {},
   "outputs": [
    {
     "name": "stdout",
     "output_type": "stream",
     "text": [
      "\\begin{tabular}{rlrl}\n",
      "\\toprule\n",
      "  1 &      break &  11 &        take \\\\\n",
      "  2 &     breaks &  12 &      broken \\\\\n",
      "  3 &   breaking &  13 &    re-break \\\\\n",
      "  4 &      Break &  14 &      breake \\\\\n",
      "  5 &      broke &  15 &      abreak \\\\\n",
      "  6 &     break. &  16 &   break.But \\\\\n",
      "  7 &  break.And &  17 &      break- \\\\\n",
      "  8 &    rebreak &  18 &  break.What \\\\\n",
      "  9 &   break.So &  19 &        bend \\\\\n",
      " 10 &     breack &  20 &  break.That \\\\\n",
      "\\bottomrule\n",
      "\\end{tabular}\n",
      "\n"
     ]
    }
   ],
   "source": [
    "get_break_neighbors_fasttext(\"reps/crawl-300d-2M-subword.vec\")"
   ]
  }
 ],
 "metadata": {
  "kernelspec": {
   "display_name": "Python 3 (ipykernel)",
   "language": "python",
   "name": "python3"
  },
  "language_info": {
   "codemirror_mode": {
    "name": "ipython",
    "version": 3
   },
   "file_extension": ".py",
   "mimetype": "text/x-python",
   "name": "python",
   "nbconvert_exporter": "python",
   "pygments_lexer": "ipython3",
   "version": "3.9.7"
  }
 },
 "nbformat": 4,
 "nbformat_minor": 5
}
