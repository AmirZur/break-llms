{
 "cells": [
  {
   "cell_type": "markdown",
   "id": "10a01cdc-05e1-45bd-b25b-f677958157fe",
   "metadata": {},
   "source": [
    "# Annotated dataset statistics and tables"
   ]
  },
  {
   "cell_type": "code",
   "execution_count": 1,
   "id": "90ab4162-c698-4060-a9c1-09621a6cf5df",
   "metadata": {},
   "outputs": [],
   "source": [
    "import pandas as pd\n",
    "from transformers import AutoTokenizer\n",
    "import break_utils"
   ]
  },
  {
   "cell_type": "code",
   "execution_count": 2,
   "id": "000974ba-7f34-4922-b8a7-3c7b70cce8c4",
   "metadata": {},
   "outputs": [],
   "source": [
    "weights_name = 'roberta-large'"
   ]
  },
  {
   "cell_type": "code",
   "execution_count": 3,
   "id": "ca98ff32-92c5-4d10-8dd2-e495e6029cda",
   "metadata": {},
   "outputs": [],
   "source": [
    "tokenizer = AutoTokenizer.from_pretrained(weights_name)"
   ]
  },
  {
   "cell_type": "code",
   "execution_count": 4,
   "id": "3edf6ad0-9f22-454d-b793-6fc077fb1b47",
   "metadata": {},
   "outputs": [],
   "source": [
    "df = break_utils.load_annotated_dataset(\"annotated_break_data.csv\", tokenizer)"
   ]
  },
  {
   "cell_type": "code",
   "execution_count": 5,
   "id": "ce0286b7-b083-40e9-a4aa-f903648d006a",
   "metadata": {},
   "outputs": [],
   "source": [
    "full_meaning_dist = df.meaning.value_counts()"
   ]
  },
  {
   "cell_type": "code",
   "execution_count": 6,
   "id": "2d405eec-60da-45c8-91f4-7d9b266f9b73",
   "metadata": {},
   "outputs": [
    {
     "data": {
      "text/plain": [
       "(72,)"
      ]
     },
     "execution_count": 6,
     "metadata": {},
     "output_type": "execute_result"
    }
   ],
   "source": [
    "full_meaning_dist.shape"
   ]
  },
  {
   "cell_type": "code",
   "execution_count": 7,
   "id": "97b9ea26-0c6d-4aee-a5c5-00f901a580cf",
   "metadata": {},
   "outputs": [
    {
     "data": {
      "text/plain": [
       "(1042, 11)"
      ]
     },
     "execution_count": 7,
     "metadata": {},
     "output_type": "execute_result"
    }
   ],
   "source": [
    "df.shape"
   ]
  },
  {
   "cell_type": "code",
   "execution_count": 8,
   "id": "c1c3f81a-4b68-4f57-939d-b308bf8b0043",
   "metadata": {},
   "outputs": [
    {
     "name": "stdout",
     "output_type": "stream",
     "text": [
      "\\begin{tabular}{lr}\n",
      "\\toprule\n",
      "{} &  meaning \\\\\n",
      "\\midrule\n",
      "separate\\_into\\_parts               &      150 \\\\\n",
      "end                               &      126 \\\\\n",
      "decipher                          &       62 \\\\\n",
      "break\\_down\\_separate\\_into\\_parts    &       61 \\\\\n",
      "violate                           &       59 \\\\\n",
      "break\\_up\\_separate\\_into\\_parts      &       35 \\\\\n",
      "surpass                           &       34 \\\\\n",
      "break\\_down\\_destroy                &       31 \\\\\n",
      "break\\_into\\_intrude                &       28 \\\\\n",
      "reveal                            &       26 \\\\\n",
      "appear                            &       25 \\\\\n",
      "break\\_through\\_pass\\_through        &       24 \\\\\n",
      "render\\_inoperable                 &       23 \\\\\n",
      "unclassified                      &       21 \\\\\n",
      "break\\_down\\_render\\_inoperable      &       21 \\\\\n",
      "break\\_free\\_escape                 &       19 \\\\\n",
      "break\\_down\\_succumb                &       18 \\\\\n",
      "cause\\_to\\_fail                     &       17 \\\\\n",
      "break\\_up\\_end\\_relationship         &       17 \\\\\n",
      "break\\_up\\_end                      &       16 \\\\\n",
      "break\\_out\\_escape                  &       15 \\\\\n",
      "break\\_even\\_profit=loss            &       14 \\\\\n",
      "succumb                           &       13 \\\\\n",
      "break\\_out\\_start                   &       12 \\\\\n",
      "experience\\_sorrow                 &       11 \\\\\n",
      "break\\_away\\_detach                 &       10 \\\\\n",
      "break\\_off\\_end                     &       10 \\\\\n",
      "break\\_in\\_enter                    &        9 \\\\\n",
      "break\\_apart\\_detach                &        9 \\\\\n",
      "break\\_off\\_detach                  &        7 \\\\\n",
      "break\\_for\\_pause                   &        7 \\\\\n",
      "destroy                           &        6 \\\\\n",
      "break\\_into\\_start                  &        6 \\\\\n",
      "pioneer                           &        6 \\\\\n",
      "lessen                            &        6 \\\\\n",
      "break\\_with\\_end\\_relationship       &        5 \\\\\n",
      "break\\_open\\_open                   &        5 \\\\\n",
      "break\\_in\\_interrupt                &        5 \\\\\n",
      "break\\_loose\\_detach                &        5 \\\\\n",
      "begin\\_construction                &        4 \\\\\n",
      "eat\\_with\\_sb                       &        4 \\\\\n",
      "change                            &        4 \\\\\n",
      "break\\_from\\_detach                 &        3 \\\\\n",
      "cost\\_too\\_much                     &        3 \\\\\n",
      "break\\_loose\\_start                 &        3 \\\\\n",
      "break\\_through\\_succeed             &        3 \\\\\n",
      "break\\_up\\_destroy                  &        3 \\\\\n",
      "break\\_down\\_unclassified           &        3 \\\\\n",
      "show\\_disagreement\\_with\\_group      &        3 \\\\\n",
      "slow\\_down                         &        3 \\\\\n",
      "begin\\_to\\_sweat                    &        2 \\\\\n",
      "break\\_out\\_unclassified            &        2 \\\\\n",
      "break\\_down\\_pause                  &        2 \\\\\n",
      "break\\_up\\_unclassified             &        2 \\\\\n",
      "happen                            &        2 \\\\\n",
      "break\\_out\\_separate\\_into\\_parts     &        2 \\\\\n",
      "break\\_out\\_prepare\\_for\\_consumption &        2 \\\\\n",
      "break\\_in\\_mould\\_shoes              &        2 \\\\\n",
      "break\\_down\\_fail                   &        2 \\\\\n",
      "dismantle\\_camp                    &        2 \\\\\n",
      "break\\_loose\\_escape                &        1 \\\\\n",
      "break\\_into\\_unclassified           &        1 \\\\\n",
      "break\\_off\\_stop                    &        1 \\\\\n",
      "go\\_bankrupt                       &        1 \\\\\n",
      "break\\_away\\_pause                  &        1 \\\\\n",
      "break\\_in\\_train                    &        1 \\\\\n",
      "break\\_past\\_pass\\_through           &        1 \\\\\n",
      "tame                              &        1 \\\\\n",
      "break\\_in\\_unclassified             &        1 \\\\\n",
      "break\\_with\\_detach                 &        1 \\\\\n",
      "break\\_out\\_have\\_skin\\_eruption      &        1 \\\\\n",
      "break\\_beef                        &        1 \\\\\n",
      "\\bottomrule\n",
      "\\end{tabular}\n",
      "\n"
     ]
    }
   ],
   "source": [
    "print(full_meaning_dist.to_latex())"
   ]
  },
  {
   "cell_type": "code",
   "execution_count": 9,
   "id": "0110e974-2c42-40ef-b94f-6af4b2b59a27",
   "metadata": {},
   "outputs": [
    {
     "name": "stdout",
     "output_type": "stream",
     "text": [
      "\\begin{tabular}{lr}\n",
      "\\toprule\n",
      "{} &  construction \\\\\n",
      "\\midrule\n",
      "causative    &           673 \\\\\n",
      "unaccusative &           197 \\\\\n",
      "unergative   &           172 \\\\\n",
      "\\bottomrule\n",
      "\\end{tabular}\n",
      "\n"
     ]
    }
   ],
   "source": [
    "print(df['construction'].value_counts().to_latex())"
   ]
  },
  {
   "cell_type": "code",
   "execution_count": 10,
   "id": "fdf47bbd-6290-4b17-9ad4-3442f7d2e46a",
   "metadata": {},
   "outputs": [],
   "source": [
    "probe_subset = df['meaning'].value_counts()\n",
    "\n",
    "probe_subset = probe_subset[probe_subset >= 10]"
   ]
  },
  {
   "cell_type": "code",
   "execution_count": 11,
   "id": "01767cd9-7160-402f-a2fa-c4c4ef42a514",
   "metadata": {},
   "outputs": [
    {
     "name": "stdout",
     "output_type": "stream",
     "text": [
      "\\begin{tabular}{lr}\n",
      "\\toprule\n",
      "{} &  meaning \\\\\n",
      "\\midrule\n",
      "separate\\_into\\_parts            &      150 \\\\\n",
      "end                            &      126 \\\\\n",
      "decipher                       &       62 \\\\\n",
      "break\\_down\\_separate\\_into\\_parts &       61 \\\\\n",
      "violate                        &       59 \\\\\n",
      "break\\_up\\_separate\\_into\\_parts   &       35 \\\\\n",
      "surpass                        &       34 \\\\\n",
      "break\\_down\\_destroy             &       31 \\\\\n",
      "break\\_into\\_intrude             &       28 \\\\\n",
      "reveal                         &       26 \\\\\n",
      "appear                         &       25 \\\\\n",
      "break\\_through\\_pass\\_through     &       24 \\\\\n",
      "render\\_inoperable              &       23 \\\\\n",
      "unclassified                   &       21 \\\\\n",
      "break\\_down\\_render\\_inoperable   &       21 \\\\\n",
      "break\\_free\\_escape              &       19 \\\\\n",
      "break\\_down\\_succumb             &       18 \\\\\n",
      "cause\\_to\\_fail                  &       17 \\\\\n",
      "break\\_up\\_end\\_relationship      &       17 \\\\\n",
      "break\\_up\\_end                   &       16 \\\\\n",
      "break\\_out\\_escape               &       15 \\\\\n",
      "break\\_even\\_profit=loss         &       14 \\\\\n",
      "succumb                        &       13 \\\\\n",
      "break\\_out\\_start                &       12 \\\\\n",
      "experience\\_sorrow              &       11 \\\\\n",
      "break\\_away\\_detach              &       10 \\\\\n",
      "break\\_off\\_end                  &       10 \\\\\n",
      "\\bottomrule\n",
      "\\end{tabular}\n",
      "\n"
     ]
    }
   ],
   "source": [
    "print(probe_subset.to_latex())"
   ]
  },
  {
   "cell_type": "code",
   "execution_count": 12,
   "id": "762e09f0-a019-47d0-9210-b3a70e217ec3",
   "metadata": {},
   "outputs": [
    {
     "data": {
      "text/plain": [
       "(27,)"
      ]
     },
     "execution_count": 12,
     "metadata": {},
     "output_type": "execute_result"
    }
   ],
   "source": [
    "probe_subset.shape"
   ]
  }
 ],
 "metadata": {
  "kernelspec": {
   "display_name": "Python 3 (ipykernel)",
   "language": "python",
   "name": "python3"
  },
  "language_info": {
   "codemirror_mode": {
    "name": "ipython",
    "version": 3
   },
   "file_extension": ".py",
   "mimetype": "text/x-python",
   "name": "python",
   "nbconvert_exporter": "python",
   "pygments_lexer": "ipython3",
   "version": "3.9.7"
  }
 },
 "nbformat": 4,
 "nbformat_minor": 5
}
